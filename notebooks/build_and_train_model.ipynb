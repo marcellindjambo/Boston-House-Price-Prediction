{
 "cells": [
  {
   "cell_type": "markdown",
   "metadata": {},
   "source": [
    "### Build and Train Model"
   ]
  },
  {
   "cell_type": "code",
   "execution_count": 1,
   "metadata": {},
   "outputs": [],
   "source": [
    "import pandas as pd"
   ]
  },
  {
   "cell_type": "code",
   "execution_count": 16,
   "metadata": {},
   "outputs": [],
   "source": [
    "df = pd.read_csv(r\"C:\\Users\\djamb\\OneDrive - Université Centrale\\ML PROJECTS\\PREDICTION PRIX LOGEMENT\\data\\selected_features.csv\")\n",
    "target = pd.read_csv(r\"C:\\Users\\djamb\\OneDrive - Université Centrale\\ML PROJECTS\\PREDICTION PRIX LOGEMENT\\data\\target.csv\")"
   ]
  },
  {
   "cell_type": "code",
   "execution_count": 17,
   "metadata": {},
   "outputs": [
    {
     "data": {
      "text/html": [
       "<div>\n",
       "<style scoped>\n",
       "    .dataframe tbody tr th:only-of-type {\n",
       "        vertical-align: middle;\n",
       "    }\n",
       "\n",
       "    .dataframe tbody tr th {\n",
       "        vertical-align: top;\n",
       "    }\n",
       "\n",
       "    .dataframe thead th {\n",
       "        text-align: right;\n",
       "    }\n",
       "</style>\n",
       "<table border=\"1\" class=\"dataframe\">\n",
       "  <thead>\n",
       "    <tr style=\"text-align: right;\">\n",
       "      <th></th>\n",
       "      <th>median_house_value</th>\n",
       "    </tr>\n",
       "  </thead>\n",
       "  <tbody>\n",
       "    <tr>\n",
       "      <th>0</th>\n",
       "      <td>452600.0</td>\n",
       "    </tr>\n",
       "    <tr>\n",
       "      <th>1</th>\n",
       "      <td>358500.0</td>\n",
       "    </tr>\n",
       "    <tr>\n",
       "      <th>2</th>\n",
       "      <td>352100.0</td>\n",
       "    </tr>\n",
       "    <tr>\n",
       "      <th>3</th>\n",
       "      <td>341300.0</td>\n",
       "    </tr>\n",
       "    <tr>\n",
       "      <th>4</th>\n",
       "      <td>342200.0</td>\n",
       "    </tr>\n",
       "    <tr>\n",
       "      <th>...</th>\n",
       "      <td>...</td>\n",
       "    </tr>\n",
       "    <tr>\n",
       "      <th>20635</th>\n",
       "      <td>78100.0</td>\n",
       "    </tr>\n",
       "    <tr>\n",
       "      <th>20636</th>\n",
       "      <td>77100.0</td>\n",
       "    </tr>\n",
       "    <tr>\n",
       "      <th>20637</th>\n",
       "      <td>92300.0</td>\n",
       "    </tr>\n",
       "    <tr>\n",
       "      <th>20638</th>\n",
       "      <td>84700.0</td>\n",
       "    </tr>\n",
       "    <tr>\n",
       "      <th>20639</th>\n",
       "      <td>89400.0</td>\n",
       "    </tr>\n",
       "  </tbody>\n",
       "</table>\n",
       "<p>20640 rows × 1 columns</p>\n",
       "</div>"
      ],
      "text/plain": [
       "       median_house_value\n",
       "0                452600.0\n",
       "1                358500.0\n",
       "2                352100.0\n",
       "3                341300.0\n",
       "4                342200.0\n",
       "...                   ...\n",
       "20635             78100.0\n",
       "20636             77100.0\n",
       "20637             92300.0\n",
       "20638             84700.0\n",
       "20639             89400.0\n",
       "\n",
       "[20640 rows x 1 columns]"
      ]
     },
     "execution_count": 17,
     "metadata": {},
     "output_type": "execute_result"
    }
   ],
   "source": [
    "target"
   ]
  },
  {
   "cell_type": "code",
   "execution_count": 18,
   "metadata": {},
   "outputs": [
    {
     "data": {
      "text/html": [
       "<div>\n",
       "<style scoped>\n",
       "    .dataframe tbody tr th:only-of-type {\n",
       "        vertical-align: middle;\n",
       "    }\n",
       "\n",
       "    .dataframe tbody tr th {\n",
       "        vertical-align: top;\n",
       "    }\n",
       "\n",
       "    .dataframe thead th {\n",
       "        text-align: right;\n",
       "    }\n",
       "</style>\n",
       "<table border=\"1\" class=\"dataframe\">\n",
       "  <thead>\n",
       "    <tr style=\"text-align: right;\">\n",
       "      <th></th>\n",
       "      <th>longitude</th>\n",
       "      <th>latitude</th>\n",
       "      <th>housing_median_age</th>\n",
       "      <th>total_rooms</th>\n",
       "      <th>median_income</th>\n",
       "      <th>ocean_proximity</th>\n",
       "    </tr>\n",
       "  </thead>\n",
       "  <tbody>\n",
       "    <tr>\n",
       "      <th>0</th>\n",
       "      <td>-1.327835</td>\n",
       "      <td>1.052548</td>\n",
       "      <td>0.982143</td>\n",
       "      <td>-0.804819</td>\n",
       "      <td>2.344766</td>\n",
       "      <td>1.291089</td>\n",
       "    </tr>\n",
       "    <tr>\n",
       "      <th>1</th>\n",
       "      <td>-1.322844</td>\n",
       "      <td>1.043185</td>\n",
       "      <td>-0.607019</td>\n",
       "      <td>2.045890</td>\n",
       "      <td>2.332238</td>\n",
       "      <td>1.291089</td>\n",
       "    </tr>\n",
       "    <tr>\n",
       "      <th>2</th>\n",
       "      <td>-1.332827</td>\n",
       "      <td>1.038503</td>\n",
       "      <td>1.856182</td>\n",
       "      <td>-0.535746</td>\n",
       "      <td>1.782699</td>\n",
       "      <td>1.291089</td>\n",
       "    </tr>\n",
       "    <tr>\n",
       "      <th>3</th>\n",
       "      <td>-1.337818</td>\n",
       "      <td>1.038503</td>\n",
       "      <td>1.856182</td>\n",
       "      <td>-0.624215</td>\n",
       "      <td>0.932968</td>\n",
       "      <td>1.291089</td>\n",
       "    </tr>\n",
       "    <tr>\n",
       "      <th>4</th>\n",
       "      <td>-1.337818</td>\n",
       "      <td>1.038503</td>\n",
       "      <td>1.856182</td>\n",
       "      <td>-0.462404</td>\n",
       "      <td>-0.012881</td>\n",
       "      <td>1.291089</td>\n",
       "    </tr>\n",
       "    <tr>\n",
       "      <th>...</th>\n",
       "      <td>...</td>\n",
       "      <td>...</td>\n",
       "      <td>...</td>\n",
       "      <td>...</td>\n",
       "      <td>...</td>\n",
       "      <td>...</td>\n",
       "    </tr>\n",
       "    <tr>\n",
       "      <th>20635</th>\n",
       "      <td>-0.758826</td>\n",
       "      <td>1.801647</td>\n",
       "      <td>-0.289187</td>\n",
       "      <td>-0.444985</td>\n",
       "      <td>-1.216128</td>\n",
       "      <td>-0.116739</td>\n",
       "    </tr>\n",
       "    <tr>\n",
       "      <th>20636</th>\n",
       "      <td>-0.818722</td>\n",
       "      <td>1.806329</td>\n",
       "      <td>-0.845393</td>\n",
       "      <td>-0.888704</td>\n",
       "      <td>-0.691593</td>\n",
       "      <td>-0.116739</td>\n",
       "    </tr>\n",
       "    <tr>\n",
       "      <th>20637</th>\n",
       "      <td>-0.823713</td>\n",
       "      <td>1.778237</td>\n",
       "      <td>-0.924851</td>\n",
       "      <td>-0.174995</td>\n",
       "      <td>-1.142593</td>\n",
       "      <td>-0.116739</td>\n",
       "    </tr>\n",
       "    <tr>\n",
       "      <th>20638</th>\n",
       "      <td>-0.873626</td>\n",
       "      <td>1.778237</td>\n",
       "      <td>-0.845393</td>\n",
       "      <td>-0.355600</td>\n",
       "      <td>-1.054583</td>\n",
       "      <td>-0.116739</td>\n",
       "    </tr>\n",
       "    <tr>\n",
       "      <th>20639</th>\n",
       "      <td>-0.833696</td>\n",
       "      <td>1.750146</td>\n",
       "      <td>-1.004309</td>\n",
       "      <td>0.068408</td>\n",
       "      <td>-0.780129</td>\n",
       "      <td>-0.116739</td>\n",
       "    </tr>\n",
       "  </tbody>\n",
       "</table>\n",
       "<p>20640 rows × 6 columns</p>\n",
       "</div>"
      ],
      "text/plain": [
       "       longitude  latitude  housing_median_age  total_rooms  median_income  \\\n",
       "0      -1.327835  1.052548            0.982143    -0.804819       2.344766   \n",
       "1      -1.322844  1.043185           -0.607019     2.045890       2.332238   \n",
       "2      -1.332827  1.038503            1.856182    -0.535746       1.782699   \n",
       "3      -1.337818  1.038503            1.856182    -0.624215       0.932968   \n",
       "4      -1.337818  1.038503            1.856182    -0.462404      -0.012881   \n",
       "...          ...       ...                 ...          ...            ...   \n",
       "20635  -0.758826  1.801647           -0.289187    -0.444985      -1.216128   \n",
       "20636  -0.818722  1.806329           -0.845393    -0.888704      -0.691593   \n",
       "20637  -0.823713  1.778237           -0.924851    -0.174995      -1.142593   \n",
       "20638  -0.873626  1.778237           -0.845393    -0.355600      -1.054583   \n",
       "20639  -0.833696  1.750146           -1.004309     0.068408      -0.780129   \n",
       "\n",
       "       ocean_proximity  \n",
       "0             1.291089  \n",
       "1             1.291089  \n",
       "2             1.291089  \n",
       "3             1.291089  \n",
       "4             1.291089  \n",
       "...                ...  \n",
       "20635        -0.116739  \n",
       "20636        -0.116739  \n",
       "20637        -0.116739  \n",
       "20638        -0.116739  \n",
       "20639        -0.116739  \n",
       "\n",
       "[20640 rows x 6 columns]"
      ]
     },
     "execution_count": 18,
     "metadata": {},
     "output_type": "execute_result"
    }
   ],
   "source": [
    "df"
   ]
  },
  {
   "cell_type": "code",
   "execution_count": 19,
   "metadata": {},
   "outputs": [],
   "source": [
    "from sklearn.model_selection import train_test_split\n",
    "from sklearn.ensemble import RandomForestRegressor\n",
    "from sklearn.neighbors import KNeighborsRegressor\n",
    "from sklearn.tree import DecisionTreeRegressor\n",
    "from sklearn.metrics import mean_squared_error,r2_score,max_error"
   ]
  },
  {
   "cell_type": "code",
   "execution_count": 20,
   "metadata": {},
   "outputs": [],
   "source": [
    "from datetime import datetime as dt\n",
    "# Split the data into training and testing sets\n",
    "X_train,X_test,y_train,y_test = train_test_split(df,target,test_size=0.25,random_state=42)"
   ]
  },
  {
   "cell_type": "code",
   "execution_count": 28,
   "metadata": {},
   "outputs": [
    {
     "name": "stderr",
     "output_type": "stream",
     "text": [
      "d:\\Anaconda\\envs\\data_env\\lib\\site-packages\\sklearn\\base.py:1474: DataConversionWarning: A column-vector y was passed when a 1d array was expected. Please change the shape of y to (n_samples,), for example using ravel().\n",
      "  return fit_method(estimator, *args, **kwargs)\n"
     ]
    },
    {
     "name": "stdout",
     "output_type": "stream",
     "text": [
      "Random Forest Regressor Metrics\n",
      "Mean Squared Error (MSE): 2535258243.1947393\n",
      "r2_score  :  0.8084020892866179\n",
      "max_error :  351865.3846153846\n",
      "Score : 0.8084020892866179\n",
      "Time : 0:00:33.235101\n"
     ]
    }
   ],
   "source": [
    "\n",
    "# Build a RandomForestRegressor\n",
    "random_fr_model = RandomForestRegressor(n_estimators=130, max_depth=100)\n",
    "\n",
    "\n",
    "start = dt.now()\n",
    "# Train the model\n",
    "random_fr_model.fit(X_train, y_train)\n",
    "\n",
    "# Predict on the test set\n",
    "y_pred = random_fr_model.predict(X_test)\n",
    "\n",
    "# Evaluate the model performance using mean squared error (MSE)\n",
    "mse = mean_squared_error(y_test, y_pred)\n",
    "r2 = r2_score(y_true=y_test,y_pred=y_pred)\n",
    "max_er = max_error(y_test,y_pred)\n",
    "print(\"Random Forest Regressor Metrics\")\n",
    "print(\"Mean Squared Error (MSE):\", mse)\n",
    "print(\"r2_score  : \", r2)\n",
    "print(\"max_error : \", max_er)\n",
    "print(f\"Score : {random_fr_model.score(X_test, y_test)}\")\n",
    "end = dt.now()\n",
    "print(f\"Time : {end-start}\")"
   ]
  },
  {
   "cell_type": "code",
   "execution_count": 29,
   "metadata": {},
   "outputs": [
    {
     "name": "stdout",
     "output_type": "stream",
     "text": [
      "KNeighbors Regressor Metrics\n",
      "Mean Squared Error (MSE): 2535258243.1947393\n",
      "r2_score  :  0.6720860619791968\n",
      "max_error :  351865.3846153846\n",
      "Score : 0.6720860619791968\n",
      "Time : 0:00:00.463842\n"
     ]
    }
   ],
   "source": [
    "KNN = KNeighborsRegressor(n_neighbors=6,n_jobs=-1)\n",
    "start = dt.now()\n",
    "KNN.fit(X_train, y_train)\n",
    "\n",
    "# Predict on the test set\n",
    "prediction = KNN.predict(X_test)\n",
    "\n",
    "mse_ = mean_squared_error(y_test, prediction)\n",
    "r2_ = r2_score(y_true=y_test,y_pred=prediction)\n",
    "max_er_ = max_error(y_test,y_pred)\n",
    "print(\"KNeighbors Regressor Metrics\")\n",
    "print(\"Mean Squared Error (MSE):\", mse)\n",
    "print(\"r2_score  : \", r2_)\n",
    "print(\"max_error : \", max_er_)\n",
    "print(f\"Score : {KNN.score(X_test, y_test)}\")\n",
    "end = dt.now()\n",
    "print(f\"Time : {end-start}\")"
   ]
  },
  {
   "cell_type": "code",
   "execution_count": 31,
   "metadata": {},
   "outputs": [
    {
     "name": "stdout",
     "output_type": "stream",
     "text": [
      "Decision Tree Regressor Metrics\n",
      "Mean Squared Error (MSE): 2535258243.1947393\n",
      "r2_score  :  0.670406135133228\n",
      "max_error :  432501.0\n",
      "Score : 0.670406135133228\n",
      "Time : 0:00:00.375658\n"
     ]
    }
   ],
   "source": [
    "decision_tree = DecisionTreeRegressor()\n",
    "\n",
    "start = dt.now()\n",
    "decision_tree.fit(X_train, y_train)\n",
    "\n",
    "\n",
    "# Predict on the test set\n",
    "predict = decision_tree.predict(X_test)\n",
    "\n",
    "mse_ = mean_squared_error(y_test, predict)\n",
    "r2_ = r2_score(y_true=y_test,y_pred=predict)\n",
    "max_er_ = max_error(y_test,predict)\n",
    "print(\"Decision Tree Regressor Metrics\")\n",
    "print(\"Mean Squared Error (MSE):\", mse)\n",
    "print(\"r2_score  : \", r2_)\n",
    "print(\"max_error : \", max_er_)\n",
    "print(f\"Score : {decision_tree.score(X_test, y_test)}\")\n",
    "end = dt.now()\n",
    "print(f\"Time : {end-start}\")"
   ]
  },
  {
   "cell_type": "code",
   "execution_count": 32,
   "metadata": {},
   "outputs": [
    {
     "name": "stderr",
     "output_type": "stream",
     "text": [
      "d:\\Anaconda\\envs\\data_env\\lib\\site-packages\\sklearn\\base.py:1474: DataConversionWarning: A column-vector y was passed when a 1d array was expected. Please change the shape of y to (n_samples,), for example using ravel().\n",
      "  return fit_method(estimator, *args, **kwargs)\n"
     ]
    },
    {
     "name": "stdout",
     "output_type": "stream",
     "text": [
      "----------Random Forest Regressor Metrics-----------\n",
      "n_estimators: 100 --- max_depht : 100 : \n",
      "Mean Squared Error (MSE): 2531502098.923787\n",
      "r2_score                :  0.8086859536213792\n",
      "max_error               :  355198.0\n",
      "Score                  : 0.8086859536213792\n",
      "Time : 0:00:19.341941\n"
     ]
    },
    {
     "name": "stderr",
     "output_type": "stream",
     "text": [
      "d:\\Anaconda\\envs\\data_env\\lib\\site-packages\\sklearn\\base.py:1474: DataConversionWarning: A column-vector y was passed when a 1d array was expected. Please change the shape of y to (n_samples,), for example using ravel().\n",
      "  return fit_method(estimator, *args, **kwargs)\n"
     ]
    },
    {
     "name": "stdout",
     "output_type": "stream",
     "text": [
      "----------Random Forest Regressor Metrics-----------\n",
      "n_estimators: 100 --- max_depht : 150 : \n",
      "Mean Squared Error (MSE): 2535464728.604708\n",
      "r2_score                :  0.8083864844963569\n",
      "max_error               :  361133.0\n",
      "Score                  : 0.8083864844963569\n",
      "Time : 0:00:25.740341\n"
     ]
    },
    {
     "name": "stderr",
     "output_type": "stream",
     "text": [
      "d:\\Anaconda\\envs\\data_env\\lib\\site-packages\\sklearn\\base.py:1474: DataConversionWarning: A column-vector y was passed when a 1d array was expected. Please change the shape of y to (n_samples,), for example using ravel().\n",
      "  return fit_method(estimator, *args, **kwargs)\n"
     ]
    },
    {
     "name": "stdout",
     "output_type": "stream",
     "text": [
      "----------Random Forest Regressor Metrics-----------\n",
      "n_estimators: 100 --- max_depht : 200 : \n",
      "Mean Squared Error (MSE): 2531007197.052943\n",
      "r2_score                :  0.8087233550043414\n",
      "max_error               :  357240.0\n",
      "Score                  : 0.8087233550043414\n",
      "Time : 0:00:22.042806\n"
     ]
    },
    {
     "name": "stderr",
     "output_type": "stream",
     "text": [
      "d:\\Anaconda\\envs\\data_env\\lib\\site-packages\\sklearn\\base.py:1474: DataConversionWarning: A column-vector y was passed when a 1d array was expected. Please change the shape of y to (n_samples,), for example using ravel().\n",
      "  return fit_method(estimator, *args, **kwargs)\n"
     ]
    },
    {
     "name": "stdout",
     "output_type": "stream",
     "text": [
      "----------Random Forest Regressor Metrics-----------\n",
      "n_estimators: 100 --- max_depht : 300 : \n",
      "Mean Squared Error (MSE): 2523803885.459608\n",
      "r2_score                :  0.8092677332566182\n",
      "max_error               :  364033.0\n",
      "Score                  : 0.8092677332566182\n",
      "Time : 0:00:20.307412\n"
     ]
    },
    {
     "name": "stderr",
     "output_type": "stream",
     "text": [
      "d:\\Anaconda\\envs\\data_env\\lib\\site-packages\\sklearn\\base.py:1474: DataConversionWarning: A column-vector y was passed when a 1d array was expected. Please change the shape of y to (n_samples,), for example using ravel().\n",
      "  return fit_method(estimator, *args, **kwargs)\n"
     ]
    },
    {
     "name": "stdout",
     "output_type": "stream",
     "text": [
      "----------Random Forest Regressor Metrics-----------\n",
      "n_estimators: 150 --- max_depht : 100 : \n",
      "Mean Squared Error (MSE): 2511358337.247649\n",
      "r2_score                :  0.8102082847927368\n",
      "max_error               :  353299.0\n",
      "Score                  : 0.8102082847927368\n",
      "Time : 0:00:31.009170\n"
     ]
    },
    {
     "name": "stderr",
     "output_type": "stream",
     "text": [
      "d:\\Anaconda\\envs\\data_env\\lib\\site-packages\\sklearn\\base.py:1474: DataConversionWarning: A column-vector y was passed when a 1d array was expected. Please change the shape of y to (n_samples,), for example using ravel().\n",
      "  return fit_method(estimator, *args, **kwargs)\n"
     ]
    },
    {
     "name": "stdout",
     "output_type": "stream",
     "text": [
      "----------Random Forest Regressor Metrics-----------\n",
      "n_estimators: 150 --- max_depht : 150 : \n",
      "Mean Squared Error (MSE): 2521507446.321618\n",
      "r2_score                :  0.8094412828120137\n",
      "max_error               :  361537.0\n",
      "Score                  : 0.8094412828120137\n",
      "Time : 0:00:29.935826\n"
     ]
    },
    {
     "name": "stderr",
     "output_type": "stream",
     "text": [
      "d:\\Anaconda\\envs\\data_env\\lib\\site-packages\\sklearn\\base.py:1474: DataConversionWarning: A column-vector y was passed when a 1d array was expected. Please change the shape of y to (n_samples,), for example using ravel().\n",
      "  return fit_method(estimator, *args, **kwargs)\n"
     ]
    },
    {
     "name": "stdout",
     "output_type": "stream",
     "text": [
      "----------Random Forest Regressor Metrics-----------\n",
      "n_estimators: 150 --- max_depht : 200 : \n",
      "Mean Squared Error (MSE): 2524522117.7059517\n",
      "r2_score                :  0.8092134540532369\n",
      "max_error               :  355499.0\n",
      "Score                  : 0.8092134540532369\n",
      "Time : 0:00:34.152726\n"
     ]
    },
    {
     "name": "stderr",
     "output_type": "stream",
     "text": [
      "d:\\Anaconda\\envs\\data_env\\lib\\site-packages\\sklearn\\base.py:1474: DataConversionWarning: A column-vector y was passed when a 1d array was expected. Please change the shape of y to (n_samples,), for example using ravel().\n",
      "  return fit_method(estimator, *args, **kwargs)\n"
     ]
    },
    {
     "name": "stdout",
     "output_type": "stream",
     "text": [
      "----------Random Forest Regressor Metrics-----------\n",
      "n_estimators: 150 --- max_depht : 300 : \n",
      "Mean Squared Error (MSE): 2499876367.072236\n",
      "r2_score                :  0.8110760155268296\n",
      "max_error               :  351663.0\n",
      "Score                  : 0.8110760155268296\n",
      "Time : 0:00:28.625426\n"
     ]
    },
    {
     "name": "stderr",
     "output_type": "stream",
     "text": [
      "d:\\Anaconda\\envs\\data_env\\lib\\site-packages\\sklearn\\base.py:1474: DataConversionWarning: A column-vector y was passed when a 1d array was expected. Please change the shape of y to (n_samples,), for example using ravel().\n",
      "  return fit_method(estimator, *args, **kwargs)\n"
     ]
    },
    {
     "name": "stdout",
     "output_type": "stream",
     "text": [
      "----------Random Forest Regressor Metrics-----------\n",
      "n_estimators: 200 --- max_depht : 100 : \n",
      "Mean Squared Error (MSE): 2512134690.2315073\n",
      "r2_score                :  0.8101496132116137\n",
      "max_error               :  350252.495\n",
      "Score                  : 0.8101496132116137\n",
      "Time : 0:00:36.924960\n"
     ]
    },
    {
     "name": "stderr",
     "output_type": "stream",
     "text": [
      "d:\\Anaconda\\envs\\data_env\\lib\\site-packages\\sklearn\\base.py:1474: DataConversionWarning: A column-vector y was passed when a 1d array was expected. Please change the shape of y to (n_samples,), for example using ravel().\n",
      "  return fit_method(estimator, *args, **kwargs)\n"
     ]
    },
    {
     "name": "stdout",
     "output_type": "stream",
     "text": [
      "----------Random Forest Regressor Metrics-----------\n",
      "n_estimators: 200 --- max_depht : 150 : \n",
      "Mean Squared Error (MSE): 2520001983.777716\n",
      "r2_score                :  0.809555055631348\n",
      "max_error               :  357812.5\n",
      "Score                  : 0.809555055631348\n",
      "Time : 0:00:48.982164\n"
     ]
    },
    {
     "name": "stderr",
     "output_type": "stream",
     "text": [
      "d:\\Anaconda\\envs\\data_env\\lib\\site-packages\\sklearn\\base.py:1474: DataConversionWarning: A column-vector y was passed when a 1d array was expected. Please change the shape of y to (n_samples,), for example using ravel().\n",
      "  return fit_method(estimator, *args, **kwargs)\n"
     ]
    },
    {
     "name": "stdout",
     "output_type": "stream",
     "text": [
      "----------Random Forest Regressor Metrics-----------\n",
      "n_estimators: 200 --- max_depht : 200 : \n",
      "Mean Squared Error (MSE): 2518658295.4075413\n",
      "r2_score                :  0.809656602637483\n",
      "max_error               :  356229.0\n",
      "Score                  : 0.809656602637483\n",
      "Time : 0:00:42.285010\n"
     ]
    },
    {
     "name": "stderr",
     "output_type": "stream",
     "text": [
      "d:\\Anaconda\\envs\\data_env\\lib\\site-packages\\sklearn\\base.py:1474: DataConversionWarning: A column-vector y was passed when a 1d array was expected. Please change the shape of y to (n_samples,), for example using ravel().\n",
      "  return fit_method(estimator, *args, **kwargs)\n"
     ]
    },
    {
     "name": "stdout",
     "output_type": "stream",
     "text": [
      "----------Random Forest Regressor Metrics-----------\n",
      "n_estimators: 200 --- max_depht : 300 : \n",
      "Mean Squared Error (MSE): 2505314964.5758395\n",
      "r2_score                :  0.8106650025968063\n",
      "max_error               :  351789.5\n",
      "Score                  : 0.8106650025968063\n",
      "Time : 0:00:42.411908\n"
     ]
    },
    {
     "name": "stderr",
     "output_type": "stream",
     "text": [
      "d:\\Anaconda\\envs\\data_env\\lib\\site-packages\\sklearn\\base.py:1474: DataConversionWarning: A column-vector y was passed when a 1d array was expected. Please change the shape of y to (n_samples,), for example using ravel().\n",
      "  return fit_method(estimator, *args, **kwargs)\n"
     ]
    },
    {
     "name": "stdout",
     "output_type": "stream",
     "text": [
      "----------Random Forest Regressor Metrics-----------\n",
      "n_estimators: 300 --- max_depht : 100 : \n",
      "Mean Squared Error (MSE): 2506891533.932528\n",
      "r2_score                :  0.8105458559987636\n",
      "max_error               :  352658.6666666666\n",
      "Score                  : 0.8105458559987636\n",
      "Time : 0:01:04.594561\n"
     ]
    },
    {
     "name": "stderr",
     "output_type": "stream",
     "text": [
      "d:\\Anaconda\\envs\\data_env\\lib\\site-packages\\sklearn\\base.py:1474: DataConversionWarning: A column-vector y was passed when a 1d array was expected. Please change the shape of y to (n_samples,), for example using ravel().\n",
      "  return fit_method(estimator, *args, **kwargs)\n"
     ]
    },
    {
     "name": "stdout",
     "output_type": "stream",
     "text": [
      "----------Random Forest Regressor Metrics-----------\n",
      "n_estimators: 300 --- max_depht : 150 : \n",
      "Mean Squared Error (MSE): 2514606004.244356\n",
      "r2_score                :  0.8099628477793941\n",
      "max_error               :  357649.9966666667\n",
      "Score                  : 0.8099628477793941\n",
      "Time : 0:01:27.361600\n"
     ]
    },
    {
     "name": "stderr",
     "output_type": "stream",
     "text": [
      "d:\\Anaconda\\envs\\data_env\\lib\\site-packages\\sklearn\\base.py:1474: DataConversionWarning: A column-vector y was passed when a 1d array was expected. Please change the shape of y to (n_samples,), for example using ravel().\n",
      "  return fit_method(estimator, *args, **kwargs)\n"
     ]
    },
    {
     "name": "stdout",
     "output_type": "stream",
     "text": [
      "----------Random Forest Regressor Metrics-----------\n",
      "n_estimators: 300 --- max_depht : 200 : \n",
      "Mean Squared Error (MSE): 2504022211.9978733\n",
      "r2_score                :  0.8107627002154503\n",
      "max_error               :  353860.0\n",
      "Score                  : 0.8107627002154503\n",
      "Time : 0:01:31.319415\n"
     ]
    },
    {
     "name": "stderr",
     "output_type": "stream",
     "text": [
      "d:\\Anaconda\\envs\\data_env\\lib\\site-packages\\sklearn\\base.py:1474: DataConversionWarning: A column-vector y was passed when a 1d array was expected. Please change the shape of y to (n_samples,), for example using ravel().\n",
      "  return fit_method(estimator, *args, **kwargs)\n"
     ]
    },
    {
     "name": "stdout",
     "output_type": "stream",
     "text": [
      "----------Random Forest Regressor Metrics-----------\n",
      "n_estimators: 300 --- max_depht : 300 : \n",
      "Mean Squared Error (MSE): 2516157530.1718717\n",
      "r2_score                :  0.8098455937967171\n",
      "max_error               :  353743.6666666666\n",
      "Score                  : 0.8098455937967171\n",
      "Time : 0:01:33.578307\n"
     ]
    }
   ],
   "source": [
    "for i in [100,150,200,300]:\n",
    "    for j in [100,150,200,300]:\n",
    "        random_fr_model = RandomForestRegressor(n_estimators=i, max_depth=j)\n",
    "\n",
    "        start = dt.now()\n",
    "        # Train the model\n",
    "        random_fr_model.fit(X_train, y_train)\n",
    "\n",
    "        # Predict on the test set\n",
    "        y_pred = random_fr_model.predict(X_test)\n",
    "\n",
    "        # Evaluate the model performance using mean squared error (MSE)\n",
    "        mse = mean_squared_error(y_test, y_pred)\n",
    "        r2 = r2_score(y_true=y_test,y_pred=y_pred)\n",
    "        max_er = max_error(y_test,y_pred)\n",
    "        \n",
    "        print(\"----------Random Forest Regressor Metrics-----------\")\n",
    "        print(f\"n_estimators: {i} --- max_depht : {j} : \")\n",
    "        print(\"Mean Squared Error (MSE):\", mse)\n",
    "        print(\"r2_score                : \", r2)\n",
    "        print(\"max_error               : \", max_er)\n",
    "        print(f\"Score                  : {random_fr_model.score(X_test, y_test)}\")\n",
    "        end = dt.now()\n",
    "        print(f\"Time : {end-start}\")"
   ]
  },
  {
   "cell_type": "code",
   "execution_count": 36,
   "metadata": {},
   "outputs": [
    {
     "name": "stderr",
     "output_type": "stream",
     "text": [
      "d:\\Anaconda\\envs\\data_env\\lib\\site-packages\\sklearn\\base.py:1474: DataConversionWarning: A column-vector y was passed when a 1d array was expected. Please change the shape of y to (n_samples,), for example using ravel().\n",
      "  return fit_method(estimator, *args, **kwargs)\n"
     ]
    },
    {
     "name": "stdout",
     "output_type": "stream",
     "text": [
      "Score sur X_train : 0.9743849523859544\n",
      "Score :  0.8100999127968351\n"
     ]
    },
    {
     "data": {
      "text/html": [
       "<div>\n",
       "<style scoped>\n",
       "    .dataframe tbody tr th:only-of-type {\n",
       "        vertical-align: middle;\n",
       "    }\n",
       "\n",
       "    .dataframe tbody tr th {\n",
       "        vertical-align: top;\n",
       "    }\n",
       "\n",
       "    .dataframe thead th {\n",
       "        text-align: right;\n",
       "    }\n",
       "</style>\n",
       "<table border=\"1\" class=\"dataframe\">\n",
       "  <thead>\n",
       "    <tr style=\"text-align: right;\">\n",
       "      <th></th>\n",
       "      <th>Prédiction</th>\n",
       "      <th>Valeur Réelle</th>\n",
       "    </tr>\n",
       "  </thead>\n",
       "  <tbody>\n",
       "    <tr>\n",
       "      <th>20046</th>\n",
       "      <td>53767.000</td>\n",
       "      <td>47700.0</td>\n",
       "    </tr>\n",
       "    <tr>\n",
       "      <th>3024</th>\n",
       "      <td>69611.000</td>\n",
       "      <td>45800.0</td>\n",
       "    </tr>\n",
       "    <tr>\n",
       "      <th>15663</th>\n",
       "      <td>481387.535</td>\n",
       "      <td>500001.0</td>\n",
       "    </tr>\n",
       "    <tr>\n",
       "      <th>20484</th>\n",
       "      <td>270389.015</td>\n",
       "      <td>218600.0</td>\n",
       "    </tr>\n",
       "    <tr>\n",
       "      <th>9814</th>\n",
       "      <td>252219.505</td>\n",
       "      <td>278000.0</td>\n",
       "    </tr>\n",
       "    <tr>\n",
       "      <th>13311</th>\n",
       "      <td>166208.000</td>\n",
       "      <td>158700.0</td>\n",
       "    </tr>\n",
       "    <tr>\n",
       "      <th>7113</th>\n",
       "      <td>206105.000</td>\n",
       "      <td>198200.0</td>\n",
       "    </tr>\n",
       "    <tr>\n",
       "      <th>7668</th>\n",
       "      <td>169084.500</td>\n",
       "      <td>157500.0</td>\n",
       "    </tr>\n",
       "    <tr>\n",
       "      <th>18246</th>\n",
       "      <td>226162.505</td>\n",
       "      <td>340000.0</td>\n",
       "    </tr>\n",
       "    <tr>\n",
       "      <th>5723</th>\n",
       "      <td>482573.755</td>\n",
       "      <td>446600.0</td>\n",
       "    </tr>\n",
       "    <tr>\n",
       "      <th>20069</th>\n",
       "      <td>150494.000</td>\n",
       "      <td>123200.0</td>\n",
       "    </tr>\n",
       "    <tr>\n",
       "      <th>6835</th>\n",
       "      <td>213479.000</td>\n",
       "      <td>253900.0</td>\n",
       "    </tr>\n",
       "    <tr>\n",
       "      <th>11351</th>\n",
       "      <td>182335.000</td>\n",
       "      <td>215100.0</td>\n",
       "    </tr>\n",
       "    <tr>\n",
       "      <th>20267</th>\n",
       "      <td>235735.505</td>\n",
       "      <td>220500.0</td>\n",
       "    </tr>\n",
       "    <tr>\n",
       "      <th>7097</th>\n",
       "      <td>256912.500</td>\n",
       "      <td>219800.0</td>\n",
       "    </tr>\n",
       "    <tr>\n",
       "      <th>6298</th>\n",
       "      <td>182498.000</td>\n",
       "      <td>136200.0</td>\n",
       "    </tr>\n",
       "    <tr>\n",
       "      <th>696</th>\n",
       "      <td>177875.000</td>\n",
       "      <td>178400.0</td>\n",
       "    </tr>\n",
       "    <tr>\n",
       "      <th>19607</th>\n",
       "      <td>187574.000</td>\n",
       "      <td>187500.0</td>\n",
       "    </tr>\n",
       "    <tr>\n",
       "      <th>14173</th>\n",
       "      <td>146689.000</td>\n",
       "      <td>139800.0</td>\n",
       "    </tr>\n",
       "    <tr>\n",
       "      <th>19638</th>\n",
       "      <td>88523.500</td>\n",
       "      <td>137500.0</td>\n",
       "    </tr>\n",
       "  </tbody>\n",
       "</table>\n",
       "</div>"
      ],
      "text/plain": [
       "       Prédiction  Valeur Réelle\n",
       "20046   53767.000        47700.0\n",
       "3024    69611.000        45800.0\n",
       "15663  481387.535       500001.0\n",
       "20484  270389.015       218600.0\n",
       "9814   252219.505       278000.0\n",
       "13311  166208.000       158700.0\n",
       "7113   206105.000       198200.0\n",
       "7668   169084.500       157500.0\n",
       "18246  226162.505       340000.0\n",
       "5723   482573.755       446600.0\n",
       "20069  150494.000       123200.0\n",
       "6835   213479.000       253900.0\n",
       "11351  182335.000       215100.0\n",
       "20267  235735.505       220500.0\n",
       "7097   256912.500       219800.0\n",
       "6298   182498.000       136200.0\n",
       "696    177875.000       178400.0\n",
       "19607  187574.000       187500.0\n",
       "14173  146689.000       139800.0\n",
       "19638   88523.500       137500.0"
      ]
     },
     "execution_count": 36,
     "metadata": {},
     "output_type": "execute_result"
    }
   ],
   "source": [
    "score_train = random_fr_model.score(X_train, y_train)\n",
    "score = random_fr_model.score(X_test, y_test)\n",
    "random_fr_model = RandomForestRegressor(n_estimators=200, max_depth=100)\n",
    "\n",
    "# Train the model\n",
    "random_fr_model.fit(X_train, y_train)\n",
    "\n",
    "print(f\"Score sur X_train : {score_train}\")\n",
    "print(f\"Score : \", score)\n",
    "\n",
    "\n",
    "y_pred = random_fr_model.predict(X_test)\n",
    "\n",
    "y_pred_series = pd.Series(y_pred.squeeze(), index=X_test.index)\n",
    "y_test_series = pd.Series(y_test.squeeze(), index=X_test.index)\n",
    "\n",
    "# Créer un DataFrame pour les prédictions et les valeurs réelles\n",
    "df_results = pd.DataFrame({'Prédiction': y_pred_series, 'Valeur Réelle': y_test_series})\n",
    "\n",
    "\n",
    "# Afficher le DataFrame contenant les prédictions et les valeurs réelles\n",
    "df_results.head(20)\n",
    "\n"
   ]
  },
  {
   "cell_type": "code",
   "execution_count": 37,
   "metadata": {},
   "outputs": [
    {
     "name": "stdout",
     "output_type": "stream",
     "text": [
      "Modèle enregistré avec succès dans : C:\\Users\\djamb\\OneDrive - Université Centrale\\ML PROJECTS\\PREDICTION PRIX LOGEMENT\\model_saved\\random_forest_model.joblib\n"
     ]
    }
   ],
   "source": [
    "from joblib import dump\n",
    "\n",
    "model_file_path = r\"C:\\Users\\djamb\\OneDrive - Université Centrale\\ML PROJECTS\\PREDICTION PRIX LOGEMENT\\model_saved\\random_forest_model.joblib\"\n",
    "\n",
    "# Enregistrer le modèle\n",
    "dump(random_fr_model, model_file_path)\n",
    "\n",
    "print(\"Modèle enregistré avec succès dans :\", model_file_path)"
   ]
  },
  {
   "cell_type": "code",
   "execution_count": 54,
   "metadata": {},
   "outputs": [
    {
     "name": "stdout",
     "output_type": "stream",
     "text": [
      "[12.3 12.4  6.1  5.4 52.7 11.1]\n"
     ]
    }
   ],
   "source": [
    "import numpy as np\n",
    "feature_importances = random_fr_model.feature_importances_\n",
    "\n",
    "# Arrondir les importances des fonctionnalités à deux décimales\n",
    "rounded_feature_importances = np.round(feature_importances,3)*100\n",
    "\n",
    "# Afficher les importances des fonctionnalités arrondies\n",
    "print(rounded_feature_importances)"
   ]
  },
  {
   "cell_type": "code",
   "execution_count": null,
   "metadata": {},
   "outputs": [],
   "source": []
  }
 ],
 "metadata": {
  "kernelspec": {
   "display_name": "data_env",
   "language": "python",
   "name": "python3"
  },
  "language_info": {
   "codemirror_mode": {
    "name": "ipython",
    "version": 3
   },
   "file_extension": ".py",
   "mimetype": "text/x-python",
   "name": "python",
   "nbconvert_exporter": "python",
   "pygments_lexer": "ipython3",
   "version": "3.9.18"
  }
 },
 "nbformat": 4,
 "nbformat_minor": 2
}
